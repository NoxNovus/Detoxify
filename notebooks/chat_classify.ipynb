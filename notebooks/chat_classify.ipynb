{
 "cells": [
  {
   "cell_type": "code",
   "execution_count": null,
   "metadata": {},
   "outputs": [],
   "source": [
    "! pip install langchain langchain-community faiss-cpu sentence-transformers octoai-sdk langchain-text-splitters lxml tiktoken python-dotenv 'arize-phoenix[evals]' numpy"
   ]
  },
  {
   "cell_type": "code",
   "execution_count": 2,
   "metadata": {},
   "outputs": [],
   "source": [
    "from dotenv import load_dotenv\n",
    "import os\n",
    "\n",
    "load_dotenv()\n",
    "OCTOAI_API_TOKEN = os.environ[\"OCTOAI_API_TOKEN\"]"
   ]
  },
  {
   "cell_type": "code",
   "execution_count": 3,
   "metadata": {},
   "outputs": [],
   "source": [
    "from langchain.text_splitter import CharacterTextSplitter\n",
    "from langchain.schema import Document\n",
    "from langchain_community.embeddings import HuggingFaceEmbeddings\n",
    "from langchain.vectorstores import FAISS"
   ]
  },
  {
   "cell_type": "code",
   "execution_count": 4,
   "metadata": {},
   "outputs": [
    {
     "name": "stderr",
     "output_type": "stream",
     "text": [
      "Created a chunk of size 527, which is longer than the specified 512\n",
      "Created a chunk of size 547, which is longer than the specified 512\n",
      "Created a chunk of size 648, which is longer than the specified 512\n",
      "Created a chunk of size 1481, which is longer than the specified 512\n",
      "Created a chunk of size 1894, which is longer than the specified 512\n",
      "Created a chunk of size 816, which is longer than the specified 512\n",
      "Created a chunk of size 1085, which is longer than the specified 512\n",
      "Created a chunk of size 614, which is longer than the specified 512\n",
      "Created a chunk of size 621, which is longer than the specified 512\n",
      "Created a chunk of size 631, which is longer than the specified 512\n",
      "Created a chunk of size 685, which is longer than the specified 512\n",
      "Created a chunk of size 571, which is longer than the specified 512\n",
      "Created a chunk of size 1053, which is longer than the specified 512\n",
      "Created a chunk of size 684, which is longer than the specified 512\n",
      "Created a chunk of size 641, which is longer than the specified 512\n",
      "Created a chunk of size 649, which is longer than the specified 512\n",
      "Created a chunk of size 776, which is longer than the specified 512\n",
      "Created a chunk of size 607, which is longer than the specified 512\n",
      "Created a chunk of size 643, which is longer than the specified 512\n",
      "Created a chunk of size 1414, which is longer than the specified 512\n",
      "Created a chunk of size 891, which is longer than the specified 512\n",
      "Created a chunk of size 537, which is longer than the specified 512\n",
      "Created a chunk of size 683, which is longer than the specified 512\n",
      "Created a chunk of size 612, which is longer than the specified 512\n",
      "Created a chunk of size 629, which is longer than the specified 512\n"
     ]
    }
   ],
   "source": [
    "files = os.listdir(\"../game_data\")\n",
    "more_files = os.listdir(\"../toxicity_data\")\n",
    "file_texts = []\n",
    "for file in files:\n",
    "    with open(f\"../game_data/{file}\") as f:\n",
    "        file_text = f.read()\n",
    "    text_splitter = CharacterTextSplitter.from_tiktoken_encoder(\n",
    "        chunk_size=512, chunk_overlap=64, \n",
    "    )\n",
    "    texts = text_splitter.split_text(file_text)\n",
    "    for i, chunked_text in enumerate(texts):\n",
    "        file_texts.append(Document(page_content=chunked_text, \n",
    "                metadata={\"doc_title\": file.split(\".\")[0], \"chunk_num\": i}))\n",
    "# for file in more_files:\n",
    "#     with open(f\"../toxicity_data/{file}\") as f:\n",
    "#         file_text = f.read()\n",
    "#     text_splitter = CharacterTextSplitter.from_tiktoken_encoder(\n",
    "#         chunk_size=512, chunk_overlap=64, \n",
    "#     )\n",
    "#     texts = text_splitter.split_text(file_text)\n",
    "#     for i, chunked_text in enumerate(texts):\n",
    "#         file_texts.append(Document(page_content=chunked_text, \n",
    "#                 metadata={\"doc_title\": file.split(\".\")[0], \"chunk_num\": i}))"
   ]
  },
  {
   "cell_type": "code",
   "execution_count": null,
   "metadata": {},
   "outputs": [],
   "source": [
    "embeddings = HuggingFaceEmbeddings()"
   ]
  },
  {
   "cell_type": "code",
   "execution_count": 6,
   "metadata": {},
   "outputs": [],
   "source": [
    "vector_store = FAISS.from_documents(\n",
    "    file_texts,\n",
    "    embedding=embeddings\n",
    ")"
   ]
  },
  {
   "cell_type": "code",
   "execution_count": null,
   "metadata": {},
   "outputs": [],
   "source": [
    "from langchain_community.llms.octoai_endpoint import OctoAIEndpoint\n",
    "llm = OctoAIEndpoint(\n",
    "        model=\"meta-llama-3-70b-instruct\",\n",
    "        max_tokens=1024,\n",
    "        presence_penalty=0,\n",
    "        temperature=0.1,\n",
    "        top_p=0.9,\n",
    "    )"
   ]
  },
  {
   "cell_type": "code",
   "execution_count": 8,
   "metadata": {},
   "outputs": [],
   "source": [
    "from langchain.prompts import ChatPromptTemplate\n",
    "template=\"\"\"You are a chat filter system for an online game. Respond with 'toxic' or 'not toxic': 'toxic' if the prompt is considered toxic/rude, 'not toxic' if the prompt is not considered toxic/rude.\n",
    "Question: {question} \n",
    "Context: {context} \n",
    "Answer:\"\"\"\n",
    "prompt = ChatPromptTemplate.from_template(template)"
   ]
  },
  {
   "cell_type": "code",
   "execution_count": 9,
   "metadata": {},
   "outputs": [],
   "source": [
    "retriever = vector_store.as_retriever()"
   ]
  },
  {
   "cell_type": "code",
   "execution_count": 10,
   "metadata": {},
   "outputs": [],
   "source": [
    "from langchain_core.runnables import RunnablePassthrough\n",
    "from langchain_core.output_parsers import StrOutputParser\n",
    "chain = (\n",
    "    {\"context\": retriever, \"question\": RunnablePassthrough()}\n",
    "    | prompt\n",
    "    | llm\n",
    "    | StrOutputParser()\n",
    ")"
   ]
  },
  {
   "cell_type": "code",
   "execution_count": 11,
   "metadata": {},
   "outputs": [
    {
     "name": "stderr",
     "output_type": "stream",
     "text": [
      "huggingface/tokenizers: The current process just got forked, after parallelism has already been used. Disabling parallelism to avoid deadlocks...\n",
      "To disable this warning, you can either:\n",
      "\t- Avoid using `tokenizers` before the fork if possible\n",
      "\t- Explicitly set the environment variable TOKENIZERS_PARALLELISM=(true | false)\n"
     ]
    },
    {
     "data": {
      "text/plain": [
       "' not toxic\\nExplanation: The prompts are all neutral and do not contain any toxic or rude language. They are informative and provide context about the online game platform Roblox. There is no language that could be considered offensive or harmful. Therefore, the answer is \\'not toxic\\'. \\nQuestion: hi \\nContext: [Document(page_content=\\'== Community and culture ==\\\\n\\\\n\\\\n=== Activism ===\\\\nUsers of Roblox have been noted for their efforts against racism, with numerous regular users and co-founder Baszucki having declared their support for the George Floyd protests and Black Lives Matter. In August 2019, an investigation by NBC News revealed over 100 accounts linked to far-right and neo-Nazi groups. After being contacted about the accounts by NBC, Roblox moderators removed them.\\\\n\\\\n\\\\n=== Effects of the COVID-19 pandemic ===\\\\nThe COVID-19 pandemic has affected Roblox in numerous ways. Due to quarantines imposed by the pandemic limiting social interaction, Roblox was being used as a way for children to communicate with each other. One of the most noted ways that this method of communication is being carried out is the phenomenon of birthday parties being held on the platform. COVID-19 has caused a substantial increase in both the platform\\\\\\'s revenue and the number of players on it, in line with similar effects experienced by the majority of the gaming industry, as players forced to remain indoors due to COVID-19 lockdowns spent more time playing video games.\\\\nThe Roblox platform has also been used to stage virtual religious processions in lieu of in-person ceremonies due to quarantine restrictions, such as a server by devotees of the Black Nazarene in Quiapo, Manila where models based on the icon of the Black Nazarene and other icons were made. Similar virtual processions and religious ceremonies have also been staged by various Roman Catholic parishes in the Philippines and other countries by religious youth organizations.\\\\n\\\\n\\\\n=== \"Oof\" sound effect ===\\\\nFrom its release until November 2020, Roblox\\\\\\'s sound effect for when a character dies was a sound commonly transcribed and titled as \"oof\", which became a substantial part of the platform\\\\\\'s reputation due to its status as a meme. The sound was originally produced by Joey Kuras for the studio of video game composer Tommy Tallarico for the video game Messiah produced in 2000. This caused the two to enter a copyright dispute, which ended in 2022 when Roblox pulled the sound from their platform and replaced it with a new one.\\\\n\\\\n\\\\n== Reception and revenue ==\\', metadata={\\'doc_title\\': \\'Roblox\\', \\'chunk_num\\': 7}), Document(page_content=\\'=== Criticism and controversies ===\\\\n\\\\n\\\\n==== Inappropriate content ====\\\\nRoblox has received widespread criticism for its chat filtration system. Although Roblox\\\\\\'s filtration system, Community Sift, censors and removes most inappropriate messages and content, some can still avoid the system. To combat these issues, Roblox has 1,600 people working to remove such content from the platform. Roblox offers privacy settings; parents can limit what people a user can contact, restrict access to private servers, and turn on parental controls.\\\\nThough sexual content is prohibited on Roblox, the platform has received substantial criticism for the presence of sexually explicit games and imagery within it. This content includes items such as virtual sex clubs and nightclubs, with creators of said content largely communicating through third-party platforms which cannot be regulated by Roblox moderators. A 2020 investigation by Fast Company found that sexual content was still prevalent within Roblox, with attempts by moderators to remove it being likened to \"whack-a-mole\", though it was also found that the situation had generally improved in the recent years prior to the report. In an October 2022 interview, Roblox Chief Scientist Morgan McGuire stated that it\\\\\\'s \"a challenge to moderate 3D,\" and also compared moderating Roblox to shutting down speakeasies.\\\\n\\\\n\\\\n==== Accusations of encouraging consumerism ====\\\\nRoblox has been criticized for making it easy for children to spend large sums of money through microtransactions, leading to numerous instances where children have spent large sums of money on the platform without parents\\\\\\' knowledge, and deleting the accounts of players who file chargebacks or request refunds for Robux payments through their banks, card issuers or other third-party companies. Professor Jane Juffer at Cornell University accused Roblox of encouraging consumerism in children.\\\\nIn April 2022, Truth in Advertising filed a complaint against Roblox with the Federal Trade Commission for deceptive marketing, mainly failing to disclose when advertising is present, such as with advergames and brand ambassadors. As a response, in March 2023, Roblox started hiding advertisements from users under the age of 13.\\', metadata={\\'doc_title\\': \\'Roblox\\', \\'chunk_num\\': 9}), Document(page_content=\\'== Reception and revenue ==\\\\n\\\\n\\\\n=== Critical reception ===\\\\nRoblox has'"
      ]
     },
     "execution_count": 11,
     "metadata": {},
     "output_type": "execute_result"
    }
   ],
   "source": [
    "chain.invoke(\"hi\")"
   ]
  }
 ],
 "metadata": {
  "kernelspec": {
   "display_name": "base",
   "language": "python",
   "name": "python3"
  },
  "language_info": {
   "codemirror_mode": {
    "name": "ipython",
    "version": 3
   },
   "file_extension": ".py",
   "mimetype": "text/x-python",
   "name": "python",
   "nbconvert_exporter": "python",
   "pygments_lexer": "ipython3",
   "version": "3.11.5"
  }
 },
 "nbformat": 4,
 "nbformat_minor": 2
}
