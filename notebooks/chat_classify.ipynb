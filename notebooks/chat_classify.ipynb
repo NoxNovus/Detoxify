{
 "cells": [
  {
   "cell_type": "code",
   "execution_count": null,
   "metadata": {},
   "outputs": [],
   "source": [
    "! pip install langchain langchain-community faiss-cpu sentence-transformers octoai-sdk langchain-text-splitters lxml tiktoken python-dotenv 'arize-phoenix[evals]' numpy"
   ]
  },
  {
   "cell_type": "code",
   "execution_count": 2,
   "metadata": {},
   "outputs": [],
   "source": [
    "from dotenv import load_dotenv\n",
    "import os\n",
    "\n",
    "load_dotenv()\n",
    "OCTOAI_API_TOKEN = os.environ[\"OCTOAI_API_TOKEN\"]"
   ]
  },
  {
   "cell_type": "code",
   "execution_count": 3,
   "metadata": {},
   "outputs": [],
   "source": [
    "from langchain.text_splitter import CharacterTextSplitter\n",
    "from langchain.schema import Document\n",
    "from langchain_community.embeddings import HuggingFaceEmbeddings\n",
    "from langchain.vectorstores import FAISS"
   ]
  },
  {
   "cell_type": "code",
   "execution_count": 4,
   "metadata": {},
   "outputs": [
    {
     "name": "stderr",
     "output_type": "stream",
     "text": [
      "Created a chunk of size 527, which is longer than the specified 512\n",
      "Created a chunk of size 547, which is longer than the specified 512\n",
      "Created a chunk of size 648, which is longer than the specified 512\n",
      "Created a chunk of size 1481, which is longer than the specified 512\n",
      "Created a chunk of size 1894, which is longer than the specified 512\n",
      "Created a chunk of size 816, which is longer than the specified 512\n",
      "Created a chunk of size 1085, which is longer than the specified 512\n",
      "Created a chunk of size 614, which is longer than the specified 512\n",
      "Created a chunk of size 621, which is longer than the specified 512\n",
      "Created a chunk of size 631, which is longer than the specified 512\n",
      "Created a chunk of size 685, which is longer than the specified 512\n",
      "Created a chunk of size 571, which is longer than the specified 512\n",
      "Created a chunk of size 1053, which is longer than the specified 512\n",
      "Created a chunk of size 684, which is longer than the specified 512\n",
      "Created a chunk of size 641, which is longer than the specified 512\n",
      "Created a chunk of size 649, which is longer than the specified 512\n",
      "Created a chunk of size 776, which is longer than the specified 512\n",
      "Created a chunk of size 607, which is longer than the specified 512\n",
      "Created a chunk of size 643, which is longer than the specified 512\n",
      "Created a chunk of size 1414, which is longer than the specified 512\n",
      "Created a chunk of size 891, which is longer than the specified 512\n",
      "Created a chunk of size 537, which is longer than the specified 512\n",
      "Created a chunk of size 683, which is longer than the specified 512\n",
      "Created a chunk of size 612, which is longer than the specified 512\n",
      "Created a chunk of size 629, which is longer than the specified 512\n"
     ]
    }
   ],
   "source": [
    "files = os.listdir(\"../game_data\")\n",
    "more_files = os.listdir(\"../toxicity_data\")\n",
    "file_texts = []\n",
    "for file in files:\n",
    "    with open(f\"../game_data/{file}\") as f:\n",
    "        file_text = f.read()\n",
    "    text_splitter = CharacterTextSplitter.from_tiktoken_encoder(\n",
    "        chunk_size=512, chunk_overlap=64, \n",
    "    )\n",
    "    texts = text_splitter.split_text(file_text)\n",
    "    for i, chunked_text in enumerate(texts):\n",
    "        file_texts.append(Document(page_content=chunked_text, \n",
    "                metadata={\"doc_title\": file.split(\".\")[0], \"chunk_num\": i}))\n",
    "# for file in more_files:\n",
    "#     with open(f\"../toxicity_data/{file}\") as f:\n",
    "#         file_text = f.read()\n",
    "#     text_splitter = CharacterTextSplitter.from_tiktoken_encoder(\n",
    "#         chunk_size=512, chunk_overlap=64, \n",
    "#     )\n",
    "#     texts = text_splitter.split_text(file_text)\n",
    "#     for i, chunked_text in enumerate(texts):\n",
    "#         file_texts.append(Document(page_content=chunked_text, \n",
    "#                 metadata={\"doc_title\": file.split(\".\")[0], \"chunk_num\": i}))"
   ]
  },
  {
   "cell_type": "code",
   "execution_count": null,
   "metadata": {},
   "outputs": [],
   "source": [
    "embeddings = HuggingFaceEmbeddings()"
   ]
  },
  {
   "cell_type": "code",
   "execution_count": 6,
   "metadata": {},
   "outputs": [],
   "source": [
    "vector_store = FAISS.from_documents(\n",
    "    file_texts,\n",
    "    embedding=embeddings\n",
    ")"
   ]
  },
  {
   "cell_type": "code",
   "execution_count": null,
   "metadata": {},
   "outputs": [],
   "source": [
    "from langchain_community.llms.octoai_endpoint import OctoAIEndpoint\n",
    "llm = OctoAIEndpoint(\n",
    "        model=\"meta-llama-3-70b-instruct\",\n",
    "        max_tokens=1024,\n",
    "        presence_penalty=0,\n",
    "        temperature=0.1,\n",
    "        top_p=0.9,\n",
    "    )"
   ]
  },
  {
   "cell_type": "code",
   "execution_count": 8,
   "metadata": {},
   "outputs": [],
   "source": [
    "from langchain.prompts import ChatPromptTemplate\n",
    "template=\"\"\"You are a chat filter system for an online game. Respond with 'toxic' or 'not toxic': 'toxic' if the prompt is considered toxic/rude, 'not toxic' if the prompt is not considered toxic/rude.\n",
    "Question: {question} \n",
    "Context: {context} \n",
    "Answer:\"\"\"\n",
    "prompt = ChatPromptTemplate.from_template(template)"
   ]
  },
  {
   "cell_type": "code",
   "execution_count": 9,
   "metadata": {},
   "outputs": [],
   "source": [
    "retriever = vector_store.as_retriever()"
   ]
  },
  {
   "cell_type": "code",
   "execution_count": 10,
   "metadata": {},
   "outputs": [],
   "source": [
    "from langchain_core.runnables import RunnablePassthrough\n",
    "from langchain_core.output_parsers import StrOutputParser\n",
    "chain = (\n",
    "    {\"context\": retriever, \"question\": RunnablePassthrough()}\n",
    "    | prompt\n",
    "    | llm\n",
    "    | StrOutputParser()\n",
    ")"
   ]
  },
  {
   "cell_type": "code",
   "execution_count": 20,
   "metadata": {},
   "outputs": [
    {
     "data": {
      "text/plain": [
       "' not toxic'"
      ]
     },
     "execution_count": 20,
     "metadata": {},
     "output_type": "execute_result"
    }
   ],
   "source": [
    "chain.invoke(\"ur mother is amazing\")"
   ]
  }
 ],
 "metadata": {
  "kernelspec": {
   "display_name": "base",
   "language": "python",
   "name": "python3"
  },
  "language_info": {
   "codemirror_mode": {
    "name": "ipython",
    "version": 3
   },
   "file_extension": ".py",
   "mimetype": "text/x-python",
   "name": "python",
   "nbconvert_exporter": "python",
   "pygments_lexer": "ipython3",
   "version": "3.11.5"
  }
 },
 "nbformat": 4,
 "nbformat_minor": 2
}
