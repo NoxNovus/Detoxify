{
 "cells": [
  {
   "cell_type": "code",
   "execution_count": null,
   "metadata": {},
   "outputs": [],
   "source": [
    "! pip install requests beautifulsoup4 praw python-dotenv"
   ]
  },
  {
   "cell_type": "code",
   "execution_count": 35,
   "metadata": {},
   "outputs": [
    {
     "data": {
      "text/plain": [
       "True"
      ]
     },
     "execution_count": 35,
     "metadata": {},
     "output_type": "execute_result"
    }
   ],
   "source": [
    "import requests\n",
    "from bs4 import BeautifulSoup\n",
    "import praw\n",
    "from dotenv import load_dotenv\n",
    "import os\n",
    "load_dotenv()"
   ]
  },
  {
   "cell_type": "code",
   "execution_count": 36,
   "metadata": {},
   "outputs": [],
   "source": [
    "reddit = praw.Reddit(\n",
    "    client_id=os.environ['CLIENT_ID'],\n",
    "    client_secret=os.environ['CLIENT_SECRET'],\n",
    "    password=os.environ['PASSWORD'],\n",
    "    user_agent=os.environ['USER_AGENT'],\n",
    "    username=os.environ['USERNAME']\n",
    ")"
   ]
  },
  {
   "cell_type": "code",
   "execution_count": 37,
   "metadata": {},
   "outputs": [
    {
     "name": "stdout",
     "output_type": "stream",
     "text": [
      "False\n"
     ]
    }
   ],
   "source": [
    "print(reddit.read_only)"
   ]
  },
  {
   "cell_type": "code",
   "execution_count": 38,
   "metadata": {},
   "outputs": [],
   "source": [
    "league_subreddit = reddit.subreddit(\"leagueoflegends\")"
   ]
  },
  {
   "cell_type": "code",
   "execution_count": 39,
   "metadata": {},
   "outputs": [],
   "source": [
    "toxic_lol_submissions = [\n",
    "  \"8ciqhg\",\n",
    "  \"glqsn5\",\n",
    "  \"sukb9r\",\n",
    "  \"3l1jnn\",\n",
    "  \"92ix4n\"\n",
    "]\n",
    "wholesome_lol_submissions = [\n",
    "  \"qedygv\",\n",
    "  \"h7c8jg\",\n",
    "  \"q6vpo2\"\n",
    "]"
   ]
  },
  {
   "cell_type": "code",
   "execution_count": 40,
   "metadata": {},
   "outputs": [],
   "source": [
    "from pathlib import Path\n",
    "data_path = Path(\"../toxicity_data\")"
   ]
  },
  {
   "cell_type": "code",
   "execution_count": null,
   "metadata": {},
   "outputs": [],
   "source": [
    "from praw.models import MoreComments\n",
    "\n",
    "for sub_id in toxic_lol_submissions:\n",
    "  submission = reddit.submission(sub_id)\n",
    "  comments = \"\"\n",
    "  for comment in submission.comments:\n",
    "    if isinstance(comment, MoreComments):\n",
    "        continue\n",
    "    comments = comments + comment.body + \"\\n\"\n",
    "  with open(data_path / f\"{submission.title}.txt\", \"w\") as fp:\n",
    "    fp.write(\"Toxic comments in league of legends:\\n\" + comments)\n"
   ]
  },
  {
   "cell_type": "code",
   "execution_count": 43,
   "metadata": {},
   "outputs": [],
   "source": [
    "for sub_id in wholesome_lol_submissions:\n",
    "  submission = reddit.submission(sub_id)\n",
    "  comments = \"\"\n",
    "  for comment in submission.comments:\n",
    "    if isinstance(comment, MoreComments):\n",
    "        continue\n",
    "    comments = comments + comment.body + \"\\n\"\n",
    "  with open(data_path / f\"{submission.title}.txt\", \"w\") as fp:\n",
    "    fp.write(\"Nontoxic comments in league of legends:\\n\" + comments)"
   ]
  }
 ],
 "metadata": {
  "kernelspec": {
   "display_name": "base",
   "language": "python",
   "name": "python3"
  },
  "language_info": {
   "codemirror_mode": {
    "name": "ipython",
    "version": 3
   },
   "file_extension": ".py",
   "mimetype": "text/x-python",
   "name": "python",
   "nbconvert_exporter": "python",
   "pygments_lexer": "ipython3",
   "version": "3.11.5"
  }
 },
 "nbformat": 4,
 "nbformat_minor": 2
}
