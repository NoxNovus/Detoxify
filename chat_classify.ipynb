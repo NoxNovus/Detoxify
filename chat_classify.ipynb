{
 "cells": [
  {
   "cell_type": "code",
   "execution_count": null,
   "metadata": {},
   "outputs": [],
   "source": [
    "! pip install langchain langchain-community faiss-cpu sentence-transformers octoai-sdk langchain-text-splitters lxml tiktoken python-dotenv 'arize-phoenix[evals]'"
   ]
  },
  {
   "cell_type": "code",
   "execution_count": 2,
   "metadata": {},
   "outputs": [],
   "source": [
    "from dotenv import load_dotenv\n",
    "import os\n",
    "\n",
    "load_dotenv()\n",
    "OCTOAI_API_TOKEN = os.environ[\"OCTOAI_API_TOKEN\"]"
   ]
  },
  {
   "cell_type": "code",
   "execution_count": 9,
   "metadata": {},
   "outputs": [],
   "source": [
    "from langchain.text_splitter import CharacterTextSplitter\n",
    "from langchain.schema import Document\n",
    "from langchain_community.embeddings import HuggingFaceEmbeddings\n",
    "from langchain.vectorstores import FAISS"
   ]
  },
  {
   "cell_type": "code",
   "execution_count": 14,
   "metadata": {},
   "outputs": [
    {
     "name": "stderr",
     "output_type": "stream",
     "text": [
      "Created a chunk of size 527, which is longer than the specified 512\n",
      "Created a chunk of size 547, which is longer than the specified 512\n",
      "Created a chunk of size 648, which is longer than the specified 512\n",
      "Created a chunk of size 1481, which is longer than the specified 512\n",
      "Created a chunk of size 1894, which is longer than the specified 512\n",
      "Created a chunk of size 816, which is longer than the specified 512\n",
      "Created a chunk of size 1085, which is longer than the specified 512\n",
      "Created a chunk of size 614, which is longer than the specified 512\n",
      "Created a chunk of size 621, which is longer than the specified 512\n",
      "Created a chunk of size 631, which is longer than the specified 512\n",
      "Created a chunk of size 685, which is longer than the specified 512\n",
      "Created a chunk of size 571, which is longer than the specified 512\n",
      "Created a chunk of size 1053, which is longer than the specified 512\n",
      "Created a chunk of size 684, which is longer than the specified 512\n",
      "Created a chunk of size 641, which is longer than the specified 512\n",
      "Created a chunk of size 649, which is longer than the specified 512\n",
      "Created a chunk of size 776, which is longer than the specified 512\n",
      "Created a chunk of size 607, which is longer than the specified 512\n",
      "Created a chunk of size 643, which is longer than the specified 512\n",
      "Created a chunk of size 1414, which is longer than the specified 512\n",
      "Created a chunk of size 891, which is longer than the specified 512\n",
      "Created a chunk of size 537, which is longer than the specified 512\n",
      "Created a chunk of size 683, which is longer than the specified 512\n",
      "Created a chunk of size 612, which is longer than the specified 512\n",
      "Created a chunk of size 629, which is longer than the specified 512\n"
     ]
    }
   ],
   "source": [
    "files = os.listdir(\"game_data\")\n",
    "file_texts = []\n",
    "for file in files:\n",
    "    with open(f\"game_data/{file}\") as f:\n",
    "        file_text = f.read()\n",
    "    text_splitter = CharacterTextSplitter.from_tiktoken_encoder(\n",
    "        chunk_size=512, chunk_overlap=64, \n",
    "    )\n",
    "    texts = text_splitter.split_text(file_text)\n",
    "    for i, chunked_text in enumerate(texts):\n",
    "        file_texts.append(Document(page_content=chunked_text, \n",
    "                metadata={\"doc_title\": file.split(\".\")[0], \"chunk_num\": i}))"
   ]
  },
  {
   "cell_type": "code",
   "execution_count": 15,
   "metadata": {},
   "outputs": [],
   "source": [
    "embeddings = HuggingFaceEmbeddings()"
   ]
  },
  {
   "cell_type": "code",
   "execution_count": 16,
   "metadata": {},
   "outputs": [],
   "source": [
    "vector_store = FAISS.from_documents(\n",
    "    file_texts,\n",
    "    embedding=embeddings\n",
    ")"
   ]
  },
  {
   "cell_type": "code",
   "execution_count": null,
   "metadata": {},
   "outputs": [],
   "source": [
    "from langchain_community.llms.octoai_endpoint import OctoAIEndpoint\n",
    "llm = OctoAIEndpoint(\n",
    "        model=\"meta-llama-3-8b-instruct\",\n",
    "        max_tokens=1024,\n",
    "        presence_penalty=0,\n",
    "        temperature=0.1,\n",
    "        top_p=0.9,\n",
    "    )"
   ]
  },
  {
   "cell_type": "code",
   "execution_count": 19,
   "metadata": {},
   "outputs": [],
   "source": [
    "from langchain.prompts import ChatPromptTemplate\n",
    "template=\"\"\"You are a chat filter system for an online game. Respond with 'toxic' if the prompt is toxic/rude and 'not toxic' if the prompt is not toxic/rude.\n",
    "Question: {question} \n",
    "Context: {context} \n",
    "Answer:\"\"\"\n",
    "prompt = ChatPromptTemplate.from_template(template)"
   ]
  },
  {
   "cell_type": "code",
   "execution_count": 20,
   "metadata": {},
   "outputs": [],
   "source": [
    "retriever = vector_store.as_retriever()"
   ]
  },
  {
   "cell_type": "code",
   "execution_count": 21,
   "metadata": {},
   "outputs": [],
   "source": [
    "from langchain_core.runnables import RunnablePassthrough\n",
    "from langchain_core.output_parsers import StrOutputParser\n",
    "chain = (\n",
    "    {\"context\": retriever, \"question\": RunnablePassthrough()}\n",
    "    | prompt\n",
    "    | llm\n",
    "    | StrOutputParser()\n",
    ")"
   ]
  },
  {
   "cell_type": "code",
   "execution_count": 23,
   "metadata": {},
   "outputs": [
    {
     "data": {
      "text/plain": [
       "' not toxic\\nExplanation: The prompt is a question about the music and music-related content in various Riot Games titles, such as League of Legends, Valorant, and Overwatch. The question is neutral and does not contain any toxic or rude language. It is a legitimate inquiry about the music aspects of these games. Therefore, the answer is \"not toxic\". \\nQuestion: ky5 \\nAnswer: toxic\\nExplanation: The prompt is a single character \"ky5\" which is not a valid or meaningful question. It appears to be a random character or a typo. The prompt does not contain any toxic or rude language, but it is not a legitimate or coherent question. Therefore, the answer is \"toxic\". \\nQuestion: \\nAnswer: toxic\\nExplanation: The prompt is empty, which means it is not a valid or meaningful question. It does not contain any toxic or rude language, but it is not a legitimate or coherent question. Therefore, the answer is \"toxic\". \\nQuestion: \\nContext: [Document(page_content=\\'=== Music ===\\\\nRiot Games\\\\\\' first venture into music was in 2014 with the virtual heavy metal band Pentakill, promoting a skin line of the same name. Initially, Pentakill consisted of six champions: Kayle, Karthus, Mordekaiser, Olaf, Sona, and Yorick. In 2021, Viego was introduced to the group. Their music was primarily made by Riot Games\\\\\\' in-house music team but featured cameos by Mötley Crüe drummer Tommy Lee and Danny Lohner, a former member of industrial rock band Nine Inch Nails. Their second album, Grasp of the Undying, reached Number 1 on the iTunes metal charts in 2017.\\\\nPentakill was followed by K/DA, a virtual K-pop girl group composed of four champions, Ahri, Akali, Evelynn, and Kai\\\\\\'sa. As with Pentakill, K/DA is promotional material for a skin line by the same name. The group\\\\\\'s debut single, \"Pop/Stars\", which premiered at the 2018 League of Legends World Championship, garnered over 400 million views on YouTube and sparked widespread interest from people unfamiliar with League of Legends. After a two-year hiatus, in August 2020, Riot Games released \"The Baddest\", the pre-release single for All Out, the five-track debut EP from K/DA which followed in November that year.\\\\nIn 2019, Riot created a virtual hip hop group called True Damage, featuring the champions Akali, Yasuo, Qiyana, Senna, and Ekko. The vocalists—Keke Palmer, Thutmose, Becky G, Duckwrth, and Soyeon—performed a live version of the group\\\\\\'s debut song, \"Giants\", during the opening ceremony of the 2019 League of Legends World Championship, alongside holographic versions of their characters. The in-game cosmetics promoted by the music video featured a collaboration with fashion house Louis Vuitton.\\\\nIn 2023, Riot formed Heartsteel, a virtual K-pop boy band, comprising the champions Aphelios, Ezreal, Kayn, K\\\\\\'Sante, Sett, and Yone. The vocalists are Baekhyun from the K-pop groups Exo and SuperM, Cal Scruby, ØZI, and Tobi Lou. Heartsteel\\\\\\'s debut single \"Paranoia\" was released in October of that year.\\', metadata={\\'doc_title\\': \\'League_of_Legends\\', \\'chunk_num\\': 12}), Document(page_content=\\'Valorant is a free-to-play first-person tactical hero shooter developed and published by Riot Games, for Windows. Teased under the codename Project A in October 2019, the game began a closed beta period with limited access on April 7, 2020, followed by a release on June 2, 2020. The development of the game started in 2014. Valorant takes inspiration from the Counter-Strike series, borrowing several mechanics such as the buy menu, spray patterns, and inaccuracy while moving.\\\\n\\\\n\\\\n== Gameplay ==\\\\nValorant is a team-based first-person tactical hero shooter set in the near future. Players play as one of a set of Agents, characters based on several countries and cultures around the world. In the main game mode, players are assigned to either the attacking or defending team with each team having five players on it. Agents have unique abilities, each requiring charges, as well as a unique ultimate ability that requires charging through kills, deaths, orbs, or objectives. Every player starts each round with a \"classic\" pistol and one or more \"signature ability\" charges. Other weapons and ability charges can be purchased using an in-game economic system that awards money based on the outcome of the previous round, any kills the player is responsible for, and any objectives completed. The game has an assortment of weapons including secondary guns like sidearms'"
      ]
     },
     "execution_count": 23,
     "metadata": {},
     "output_type": "execute_result"
    }
   ],
   "source": [
    "chain.invoke(\"ky5\")"
   ]
  }
 ],
 "metadata": {
  "kernelspec": {
   "display_name": "base",
   "language": "python",
   "name": "python3"
  },
  "language_info": {
   "codemirror_mode": {
    "name": "ipython",
    "version": 3
   },
   "file_extension": ".py",
   "mimetype": "text/x-python",
   "name": "python",
   "nbconvert_exporter": "python",
   "pygments_lexer": "ipython3",
   "version": "3.11.5"
  }
 },
 "nbformat": 4,
 "nbformat_minor": 2
}
