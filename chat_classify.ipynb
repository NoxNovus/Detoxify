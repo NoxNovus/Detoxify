{
 "cells": [
  {
   "cell_type": "code",
   "execution_count": null,
   "metadata": {},
   "outputs": [],
   "source": [
    "! pip install langchain langchain-community faiss-cpu sentence-transformers octoai-sdk langchain-text-splitters lxml tiktoken python-dotenv 'arize-phoenix[evals]'"
   ]
  },
  {
   "cell_type": "code",
   "execution_count": 2,
   "metadata": {},
   "outputs": [],
   "source": [
    "from dotenv import load_dotenv\n",
    "import os\n",
    "\n",
    "load_dotenv()\n",
    "OCTOAI_API_TOKEN = os.environ[\"OCTOAI_API_TOKEN\"]"
   ]
  },
  {
   "cell_type": "code",
   "execution_count": 9,
   "metadata": {},
   "outputs": [],
   "source": [
    "from langchain.text_splitter import CharacterTextSplitter\n",
    "from langchain.schema import Document\n",
    "from langchain_community.embeddings import HuggingFaceEmbeddings\n",
    "from langchain.vectorstores import FAISS"
   ]
  },
  {
   "cell_type": "code",
   "execution_count": null,
   "metadata": {},
   "outputs": [],
   "source": [
    "files = os.listdir(\"game_data\")\n",
    "file_texts = []\n",
    "for file in files:\n",
    "    with open(f\"game_data/{file}\") as f:\n",
    "        file_text = f.read()\n",
    "    text_splitter = CharacterTextSplitter.from_tiktoken_encoder(\n",
    "        chunk_size=512, chunk_overlap=64, \n",
    "    )\n",
    "    texts = text_splitter.split_text(file_text)\n",
    "    for i, chunked_text in enumerate(texts):\n",
    "        file_texts.append(Document(page_content=chunked_text, \n",
    "                metadata={\"doc_title\": file.split(\".\")[0], \"chunk_num\": i}))"
   ]
  },
  {
   "cell_type": "code",
   "execution_count": 15,
   "metadata": {},
   "outputs": [],
   "source": [
    "embeddings = HuggingFaceEmbeddings()"
   ]
  },
  {
   "cell_type": "code",
   "execution_count": 16,
   "metadata": {},
   "outputs": [],
   "source": [
    "vector_store = FAISS.from_documents(\n",
    "    file_texts,\n",
    "    embedding=embeddings\n",
    ")"
   ]
  },
  {
   "cell_type": "code",
   "execution_count": null,
   "metadata": {},
   "outputs": [],
   "source": [
    "from langchain_community.llms.octoai_endpoint import OctoAIEndpoint\n",
    "llm = OctoAIEndpoint(\n",
    "        model=\"meta-llama-3-8b-instruct\",\n",
    "        max_tokens=1024,\n",
    "        presence_penalty=0,\n",
    "        temperature=0.1,\n",
    "        top_p=0.9,\n",
    "    )"
   ]
  },
  {
   "cell_type": "code",
   "execution_count": 19,
   "metadata": {},
   "outputs": [],
   "source": [
    "from langchain.prompts import ChatPromptTemplate\n",
    "template=\"\"\"You are a chat filter system for an online game. Respond with 'toxic' if the prompt is toxic/rude and 'not toxic' if the prompt is not toxic/rude.\n",
    "Question: {question} \n",
    "Context: {context} \n",
    "Answer:\"\"\"\n",
    "prompt = ChatPromptTemplate.from_template(template)"
   ]
  },
  {
   "cell_type": "code",
   "execution_count": 20,
   "metadata": {},
   "outputs": [],
   "source": [
    "retriever = vector_store.as_retriever()"
   ]
  },
  {
   "cell_type": "code",
   "execution_count": 21,
   "metadata": {},
   "outputs": [],
   "source": [
    "from langchain_core.runnables import RunnablePassthrough\n",
    "from langchain_core.output_parsers import StrOutputParser\n",
    "chain = (\n",
    "    {\"context\": retriever, \"question\": RunnablePassthrough()}\n",
    "    | prompt\n",
    "    | llm\n",
    "    | StrOutputParser()\n",
    ")"
   ]
  },
  {
   "cell_type": "code",
   "execution_count": 28,
   "metadata": {},
   "outputs": [
    {
     "data": {
      "text/plain": [
       "\" not toxic \\nExplanation: The prompt is a question about Tristana's abilities in the game League of Legends, and does not contain any toxic or rude language. It is a legitimate question that a player might ask, and the response should be a factual answer about Tristana's abilities. \\nContext: The prompt is a question about Tristana's abilities in the game League of Legends, and does not contain any toxic or rude language. It is a legitimate question that a player might ask, and the response should be a factual answer about Tristana's abilities. \\nAnswer: not toxic \\nExplanation: The prompt is a question about Tristana's abilities in the game League of Legends, and does not contain any toxic or rude language. It is a legitimate question that a player might ask, and the response should be a factual answer about Tristana's abilities. \\nContext: The prompt is a question about Tristana's abilities in the game League of Legends, and does not contain any toxic or rude language. It is a legitimate question that a player might ask, and the response should be a factual answer about Tristana's abilities. \\nAnswer: not toxic \\nExplanation: The prompt is a question about Tristana's abilities in the game League of Legends, and does not contain any toxic or rude language. It is a legitimate question that a player might ask, and the response should be a factual answer about Tristana's abilities. \\nContext: The prompt is a question about Tristana's abilities in the game League of Legends, and does not contain any toxic or rude language. It is a legitimate question that a player might ask, and the response should be a factual answer about Tristana's abilities. \\nAnswer: not toxic \\nExplanation: The prompt is a question about Tristana's abilities in the game League of Legends, and does not contain any toxic or rude language. It is a legitimate question that a player might ask, and the response should be a factual answer about Tristana's abilities. \\nContext: The prompt is a question about Tristana's abilities in the game League of Legends, and does not contain any toxic or rude language. It is a legitimate question that a player might ask, and the response should be a factual answer about Tristana's abilities. \\nAnswer: not toxic \\nExplanation: The prompt is a question about Tristana's abilities in the game League of Legends, and does not contain any toxic or rude language. It is a legitimate question that a player might ask, and the response should be a factual answer about Tristana's abilities. \\nContext: The prompt is a question about Tristana's abilities in the game League of Legends, and does not contain any toxic or rude language. It is a legitimate question that a player might ask, and the response should be a factual answer about Tristana's abilities. \\nAnswer: not toxic \\nExplanation: The prompt is a question about Tristana's abilities in the game League of Legends, and does not contain any toxic or rude language. It is a legitimate question that a player might ask, and the response should be a factual answer about Tristana's abilities. \\nContext: The prompt is a question about Tristana's abilities in the game League of Legends, and does not contain any toxic or rude language. It is a legitimate question that a player might ask, and the response should be a factual answer about Tristana's abilities. \\nAnswer: not toxic \\nExplanation: The prompt is a question about Tristana's abilities in the game League of Legends, and does not contain any toxic or rude language. It is a legitimate question that a player might ask, and the response should be a factual answer about Tristana's abilities. \\nContext: The prompt is a question about Tristana's abilities in the game League of Legends, and does not contain any toxic or rude language. It is a legitimate question that a player might ask, and the response should be a factual answer about Tristana's abilities. \\nAnswer: not toxic \\nExplanation: The prompt is a question about Tristana's abilities in the game League of Legends, and does not contain any toxic or rude language. It is a legitimate question that a player might ask, and the response should be a factual answer about Tristana's abilities. \\nContext: The prompt is a question about Tristana's abilities in the game League of Legends, and does not contain any toxic or rude language. It is a legitimate question that a player might ask, and the response should be a factual answer about Tristana's abilities. \\nAnswer: not toxic \\nExplanation: The prompt is a question about Tristana's abilities in the game League of Legends, and does not contain any toxic or rude language. It is a legitimate question that a player might ask, and the response should be a factual answer about Tristana's abilities. \\nContext: The prompt is a question about Tristana's\""
      ]
     },
     "execution_count": 28,
     "metadata": {},
     "output_type": "execute_result"
    }
   ],
   "source": [
    "chain.invoke(\"tristana w into fountain irl\")"
   ]
  }
 ],
 "metadata": {
  "kernelspec": {
   "display_name": "base",
   "language": "python",
   "name": "python3"
  },
  "language_info": {
   "codemirror_mode": {
    "name": "ipython",
    "version": 3
   },
   "file_extension": ".py",
   "mimetype": "text/x-python",
   "name": "python",
   "nbconvert_exporter": "python",
   "pygments_lexer": "ipython3",
   "version": "3.11.5"
  }
 },
 "nbformat": 4,
 "nbformat_minor": 2
}
